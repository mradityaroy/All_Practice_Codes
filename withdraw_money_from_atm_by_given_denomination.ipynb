{
 "cells": [
  {
   "cell_type": "markdown",
   "id": "495f341b",
   "metadata": {},
   "source": [
    "# Test Case 1"
   ]
  },
  {
   "cell_type": "code",
   "execution_count": 2,
   "id": "f81e2158",
   "metadata": {},
   "outputs": [
    {
     "name": "stdout",
     "output_type": "stream",
     "text": [
      "5550\n",
      "5 1 0 1 0 0 "
     ]
    }
   ],
   "source": [
    "user_input=int(input())  # taking input from user\n",
    "rest_amt=user_input # initializing variable for which store updated value after each iteration\n",
    "deno=[1000,500,100,50,20,10]\n",
    "\n",
    "for i in range(len(deno)):\n",
    "    quo=rest_amt//deno[i] # storing quotient by floor division for of updated value for each iteration  \n",
    "    print(quo,end=\" \") # printing quotient \n",
    "    withdraw_amt=deno[i]*quo # storing withdrawl amount by multiply quotient in each iteration\n",
    "    rest_amt=rest_amt-withdraw_amt # storing rest amount by subtracting how many amount withdraw yet\n"
   ]
  },
  {
   "cell_type": "markdown",
   "id": "8b197f8f",
   "metadata": {},
   "source": [
    "# Test Case 2"
   ]
  },
  {
   "cell_type": "code",
   "execution_count": 3,
   "id": "72de909c",
   "metadata": {},
   "outputs": [
    {
     "name": "stdout",
     "output_type": "stream",
     "text": [
      "54070\n",
      "54 0 0 1 1 0 "
     ]
    }
   ],
   "source": [
    "user_input=int(input())  # taking input from user\n",
    "rest_amt=user_input # initializing variable for which store updated value after each iteration\n",
    "deno=[1000,500,100,50,20,10]\n",
    "\n",
    "for i in range(len(deno)):\n",
    "    quo=rest_amt//deno[i] # storing quotient by floor division for of updated value for each iteration  \n",
    "    print(quo,end=\" \") # printing quotient \n",
    "    withdraw_amt=deno[i]*quo # storing withdrawl amount by multiply quotient in each iteration\n",
    "    rest_amt=rest_amt-withdraw_amt # storing rest amount by subtracting how many amount withdraw yet\n"
   ]
  },
  {
   "cell_type": "markdown",
   "id": "d57a6818",
   "metadata": {},
   "source": [
    "# Test Case 3"
   ]
  },
  {
   "cell_type": "code",
   "execution_count": 4,
   "id": "1a22c6fc",
   "metadata": {},
   "outputs": [
    {
     "name": "stdout",
     "output_type": "stream",
     "text": [
      "54658\n",
      "54 1 1 1 0 0 "
     ]
    }
   ],
   "source": [
    "user_input=int(input())  # taking input from user\n",
    "rest_amt=user_input # initializing variable for which store updated value after each iteration\n",
    "deno=[1000,500,100,50,20,10]\n",
    "\n",
    "for i in range(len(deno)):\n",
    "    quo=rest_amt//deno[i] # storing quotient by floor division for of updated value for each iteration  \n",
    "    print(quo,end=\" \") # printing quotient \n",
    "    withdraw_amt=deno[i]*quo # storing withdrawl amount by multiply quotient in each iteration\n",
    "    rest_amt=rest_amt-withdraw_amt # storing rest amount by subtracting how many amount withdraw yet\n"
   ]
  },
  {
   "cell_type": "markdown",
   "id": "aeea1640",
   "metadata": {},
   "source": [
    "# Test Case 4"
   ]
  },
  {
   "cell_type": "code",
   "execution_count": 5,
   "id": "291fc125",
   "metadata": {},
   "outputs": [
    {
     "name": "stdout",
     "output_type": "stream",
     "text": [
      "10\n",
      "0 0 0 0 0 1 "
     ]
    }
   ],
   "source": [
    "user_input=int(input())  # taking input from user\n",
    "rest_amt=user_input # initializing variable for which store updated value after each iteration\n",
    "deno=[1000,500,100,50,20,10]\n",
    "\n",
    "for i in range(len(deno)):\n",
    "    quo=rest_amt//deno[i] # storing quotient by floor division for of updated value for each iteration  \n",
    "    print(quo,end=\" \") # printing quotient \n",
    "    withdraw_amt=deno[i]*quo # storing withdrawl amount by multiply quotient in each iteration\n",
    "    rest_amt=rest_amt-withdraw_amt # storing rest amount by subtracting how many amount withdraw yet\n"
   ]
  },
  {
   "cell_type": "markdown",
   "id": "40625352",
   "metadata": {},
   "source": [
    "# Test Case 5"
   ]
  },
  {
   "cell_type": "code",
   "execution_count": 6,
   "id": "8b07300f",
   "metadata": {},
   "outputs": [
    {
     "name": "stdout",
     "output_type": "stream",
     "text": [
      "5000\n",
      "5 0 0 0 0 0 "
     ]
    }
   ],
   "source": [
    "user_input=int(input())  # taking input from user\n",
    "rest_amt=user_input # initializing variable for which store updated value after each iteration\n",
    "deno=[1000,500,100,50,20,10]\n",
    "\n",
    "for i in range(len(deno)):\n",
    "    quo=rest_amt//deno[i] # storing quotient by floor division for of updated value for each iteration  \n",
    "    print(quo,end=\" \") # printing quotient \n",
    "    withdraw_amt=deno[i]*quo # storing withdrawl amount by multiply quotient in each iteration\n",
    "    rest_amt=rest_amt-withdraw_amt # storing rest amount by subtracting how many amount withdraw yet\n"
   ]
  },
  {
   "cell_type": "code",
   "execution_count": null,
   "id": "546e3a79",
   "metadata": {},
   "outputs": [],
   "source": []
  }
 ],
 "metadata": {
  "kernelspec": {
   "display_name": "Python 3",
   "language": "python",
   "name": "python3"
  },
  "language_info": {
   "codemirror_mode": {
    "name": "ipython",
    "version": 3
   },
   "file_extension": ".py",
   "mimetype": "text/x-python",
   "name": "python",
   "nbconvert_exporter": "python",
   "pygments_lexer": "ipython3",
   "version": "3.8.8"
  }
 },
 "nbformat": 4,
 "nbformat_minor": 5
}
