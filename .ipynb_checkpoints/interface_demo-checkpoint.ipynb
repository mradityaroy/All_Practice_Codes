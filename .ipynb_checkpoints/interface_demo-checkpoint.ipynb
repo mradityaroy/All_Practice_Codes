{
 "cells": [
  {
   "cell_type": "code",
   "execution_count": 6,
   "id": "c86921d5",
   "metadata": {},
   "outputs": [
    {
     "name": "stdout",
     "output_type": "stream",
     "text": [
      "I am in Triangle Draw\n"
     ]
    }
   ],
   "source": [
    "import abc\n",
    "\n",
    "class Interface(metaclass=abc.ABCMeta):\n",
    "    @abc.abstractmethod\n",
    "    def draw(self):\n",
    "        pass\n",
    "\n",
    "class Triangle(Interface):\n",
    "    pass\n",
    "    def draw(self):\n",
    "        print(\"I am in Triangle Draw\")\n",
    "        \n",
    "t=Triangle()\n",
    "t.draw()\n",
    "    "
   ]
  },
  {
   "cell_type": "code",
   "execution_count": 5,
   "id": "0f8444aa",
   "metadata": {},
   "outputs": [
    {
     "ename": "TypeError",
     "evalue": "Can't instantiate abstract class Interface with abstract methods draw",
     "output_type": "error",
     "traceback": [
      "\u001b[0;31m---------------------------------------------------------------------------\u001b[0m",
      "\u001b[0;31mTypeError\u001b[0m                                 Traceback (most recent call last)",
      "Input \u001b[0;32mIn [5]\u001b[0m, in \u001b[0;36m<cell line: 1>\u001b[0;34m()\u001b[0m\n\u001b[0;32m----> 1\u001b[0m i \u001b[38;5;241m=\u001b[39m \u001b[43mInterface\u001b[49m\u001b[43m(\u001b[49m\u001b[43m)\u001b[49m\n",
      "\u001b[0;31mTypeError\u001b[0m: Can't instantiate abstract class Interface with abstract methods draw"
     ]
    }
   ],
   "source": [
    "i = Interface()\n"
   ]
  },
  {
   "cell_type": "code",
   "execution_count": 9,
   "id": "6f467841",
   "metadata": {},
   "outputs": [
    {
     "name": "stdout",
     "output_type": "stream",
     "text": [
      "I am in Triangle Draw\n"
     ]
    }
   ],
   "source": [
    "import abc\n",
    "\n",
    "class Interface(metaclass=abc.ABCMeta):\n",
    "    @abc.abstractmethod\n",
    "    def draw(self):\n",
    "        pass\n",
    "    def action(self):\n",
    "        self.draw()\n",
    "\n",
    "class Triangle(Interface):\n",
    "    pass\n",
    "    def draw(self):\n",
    "        print(\"I am in Triangle Draw\")\n",
    "        \n",
    "t=Triangle()\n",
    "t.action()\n",
    "    "
   ]
  },
  {
   "cell_type": "code",
   "execution_count": 10,
   "id": "b8ab19c9",
   "metadata": {},
   "outputs": [
    {
     "ename": "TypeError",
     "evalue": "Can't instantiate abstract class Interface with abstract methods draw",
     "output_type": "error",
     "traceback": [
      "\u001b[0;31m---------------------------------------------------------------------------\u001b[0m",
      "\u001b[0;31mTypeError\u001b[0m                                 Traceback (most recent call last)",
      "Input \u001b[0;32mIn [10]\u001b[0m, in \u001b[0;36m<cell line: 1>\u001b[0;34m()\u001b[0m\n\u001b[0;32m----> 1\u001b[0m i \u001b[38;5;241m=\u001b[39m \u001b[43mInterface\u001b[49m\u001b[43m(\u001b[49m\u001b[43m)\u001b[49m\n",
      "\u001b[0;31mTypeError\u001b[0m: Can't instantiate abstract class Interface with abstract methods draw"
     ]
    }
   ],
   "source": [
    "i = Interface()\n"
   ]
  },
  {
   "cell_type": "code",
   "execution_count": null,
   "id": "b2737599",
   "metadata": {},
   "outputs": [],
   "source": []
  }
 ],
 "metadata": {
  "kernelspec": {
   "display_name": "Python 3 (ipykernel)",
   "language": "python",
   "name": "python3"
  },
  "language_info": {
   "codemirror_mode": {
    "name": "ipython",
    "version": 3
   },
   "file_extension": ".py",
   "mimetype": "text/x-python",
   "name": "python",
   "nbconvert_exporter": "python",
   "pygments_lexer": "ipython3",
   "version": "3.8.10"
  }
 },
 "nbformat": 4,
 "nbformat_minor": 5
}
