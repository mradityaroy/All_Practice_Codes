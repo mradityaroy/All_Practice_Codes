{
 "cells": [
  {
   "cell_type": "markdown",
   "id": "6930b904",
   "metadata": {},
   "source": [
    "# Implementation Inheritence"
   ]
  },
  {
   "cell_type": "code",
   "execution_count": 7,
   "id": "3650b56f",
   "metadata": {},
   "outputs": [
    {
     "name": "stdout",
     "output_type": "stream",
     "text": [
      "global:aseClass.__dict__: {'__module__': '__main__', 'f': <function BaseClass.f at 0x7f356e744ee0>, '__dict__': <attribute '__dict__' of 'BaseClass' objects>, '__weakref__': <attribute '__weakref__' of 'BaseClass' objects>, '__doc__': None}\n",
      "global:BaseClass is derived from class object\n",
      "\n",
      "\n",
      "global:type(inD1): <class '__main__.DerivedClassOne'>\n",
      "global:DerivedClassOne.__dict__: {'__module__': '__main__', '__doc__': None}\n",
      "BaseClass:type(self): <class '__main__.DerivedClassOne'>\n",
      "BaseClass:msg: From inD1\n",
      "\n",
      "\n",
      "global:type(inD2): <class '__main__.DerivedClassTwo'>\n",
      "global:DerivedClassTwo.__dict__: {'__module__': '__main__', 'f': <function DerivedClassTwo.f at 0x7f356e71d040>, '__doc__': None}\n",
      "DerivedClassTwo\n",
      "msg*3 From inD2From inD2From inD2\n",
      "\n",
      "\n",
      "global:type(inD3): <class '__main__.DerivedClassThree'>\n",
      "global:DerivedClassThree.__dict__: {'__module__': '__main__', 'f': <function DerivedClassThree.f at 0x7f356e71d820>, '__dict__': <attribute '__dict__' of 'DerivedClassThree' objects>, '__weakref__': <attribute '__weakref__' of 'DerivedClassThree' objects>, '__doc__': None}\n",
      "In DerivedClassThree:f, calling BaseClass.f\n",
      "BaseClass:type(self): <class '__main__.DerivedClassThree'>\n",
      "BaseClass:msg: From inD3\n",
      "DerivedClassThree:msg: From inD3From inD3From inD3From inD3\n"
     ]
    }
   ],
   "source": [
    "class BaseClass:\n",
    "    def f(self,msg):\n",
    "        print(\"BaseClass:type(self):\",type(self))\n",
    "        print(\"BaseClass:msg:\",msg)\n",
    "print(\"global:aseClass.__dict__:\",BaseClass.__dict__)\n",
    "if isinstance(BaseClass, object):\n",
    "    print(\"global:BaseClass is derived from class object\")\n",
    "#--------------------------------------------------------------------#\n",
    "\n",
    "print(\"\\n\")\n",
    "\n",
    "# Inherit f from BaseClass\n",
    "class DerivedClassOne(BaseClass):\n",
    "    pass\n",
    "\n",
    "inD1 = DerivedClassOne()\n",
    "print(\"global:type(inD1):\", type(inD1))\n",
    "print(\"global:DerivedClassOne.__dict__:\", DerivedClassOne.__dict__)\n",
    "\n",
    "inD1.f('From inD1')\n",
    "#--------------------------------------------------------------------#\n",
    "\n",
    "print(\"\\n\")\n",
    "\n",
    "# Replace f from BaseClass\n",
    "class DerivedClassTwo(BaseClass):\n",
    "    def f(self,msg):\n",
    "        print(\"DerivedClassTwo\")\n",
    "        print(\"msg*3\", msg*3)\n",
    "\n",
    "    \n",
    "inD2 = DerivedClassTwo()\n",
    "print(\"global:type(inD2):\",type(inD2))\n",
    "print(\"global:DerivedClassTwo.__dict__:\", DerivedClassTwo.__dict__)\n",
    "inD2.f(\"From inD2\")\n",
    "      \n",
    "#--------------------------------------------------------------------#    \n",
    "\n",
    "print(\"\\n\")\n",
    "\n",
    "# Extend BaseClass f\n",
    "class DerivedClassThree:\n",
    "    def f(self,msg):\n",
    "        print(\"In DerivedClassThree:f, calling BaseClass.f\")\n",
    "        BaseClass.f(self, msg)\n",
    "        print(\"DerivedClassThree:msg:\", msg*4)\n",
    "\n",
    "inD3 = DerivedClassThree()\n",
    "print(\"global:type(inD3):\",type(inD3))\n",
    "print(\"global:DerivedClassThree.__dict__:\", DerivedClassThree.__dict__)\n",
    "inD3.f(\"From inD3\")"
   ]
  },
  {
   "cell_type": "code",
   "execution_count": null,
   "id": "fd284daf",
   "metadata": {},
   "outputs": [],
   "source": []
  },
  {
   "cell_type": "code",
   "execution_count": 6,
   "id": "fc01952e",
   "metadata": {},
   "outputs": [
    {
     "name": "stdout",
     "output_type": "stream",
     "text": [
      "global:aseClass.__dict__: {'__module__': '__main__', 'f': <function BaseClass.f at 0x7f356e7449d0>, '__dict__': <attribute '__dict__' of 'BaseClass' objects>, '__weakref__': <attribute '__weakref__' of 'BaseClass' objects>, '__doc__': None}\n",
      "global:BaseClass is derived from class object\n",
      "\n",
      "\n",
      "global:type(inD1): <class '__main__.DerivedClassOne'>\n",
      "global:DerivedClassOne.__dict__: {'__module__': '__main__', '__doc__': None}\n",
      "BaseClass:type(self): <class '__main__.DerivedClassOne'>\n",
      "BaseClass:msg: From inD1\n",
      "\n",
      "\n",
      "global:type(inD2): <class '__main__.DerivedClassTwo'>\n",
      "global:DerivedClassTwo.__dict__: {'__module__': '__main__', 'f': <function DerivedClassTwo.f at 0x7f356e71d310>, '__doc__': None}\n",
      "DerivedClassTwo\n",
      "msg*3 From inD2From inD2From inD2\n",
      "\n",
      "\n",
      "global:type(inD3): <class '__main__.DerivedClassThree'>\n",
      "global:DerivedClassThree.__dict__: {'__module__': '__main__', 'f': <function DerivedClassThree.f at 0x7f356e71d700>, '__doc__': None}\n",
      "In DerivedClassThree:f, calling BaseClass.f\n",
      "BaseClass:type(self): <class '__main__.DerivedClassThree'>\n",
      "BaseClass:msg: From inD3\n",
      "DerivedClassThree:msg: From inD3From inD3From inD3From inD3\n",
      "\n",
      " \n",
      "\n",
      "(<class '__main__.DerivedClassThree'>, <class '__main__.BaseClass'>, <class 'object'>)\n"
     ]
    }
   ],
   "source": [
    "class BaseClass:\n",
    "    def f(self,msg):\n",
    "        print(\"BaseClass:type(self):\",type(self))\n",
    "        print(\"BaseClass:msg:\",msg)\n",
    "print(\"global:aseClass.__dict__:\",BaseClass.__dict__)\n",
    "if isinstance(BaseClass, object):\n",
    "    print(\"global:BaseClass is derived from class object\")\n",
    "#--------------------------------------------------------------------#\n",
    "\n",
    "print(\"\\n\")\n",
    "\n",
    "# Inherit f from BaseClass\n",
    "class DerivedClassOne(BaseClass):\n",
    "    pass\n",
    "\n",
    "inD1 = DerivedClassOne()\n",
    "print(\"global:type(inD1):\", type(inD1))\n",
    "print(\"global:DerivedClassOne.__dict__:\", DerivedClassOne.__dict__)\n",
    "\n",
    "inD1.f('From inD1')\n",
    "#--------------------------------------------------------------------#\n",
    "\n",
    "print(\"\\n\")\n",
    "\n",
    "# Replace f from BaseClass\n",
    "class DerivedClassTwo(BaseClass):\n",
    "    def f(self,msg):\n",
    "        print(\"DerivedClassTwo\")\n",
    "        print(\"msg*3\", msg*3)\n",
    "\n",
    "    \n",
    "inD2 = DerivedClassTwo()\n",
    "print(\"global:type(inD2):\",type(inD2))\n",
    "print(\"global:DerivedClassTwo.__dict__:\", DerivedClassTwo.__dict__)\n",
    "inD2.f(\"From inD2\")\n",
    "      \n",
    "#--------------------------------------------------------------------#    \n",
    "\n",
    "print(\"\\n\")\n",
    "\n",
    "# Extend BaseClass f\n",
    "class DerivedClassThree(BaseClass):\n",
    "    def f(self,msg):\n",
    "        print(\"In DerivedClassThree:f, calling BaseClass.f\")\n",
    "        BaseClass.f(self, msg)\n",
    "        print(\"DerivedClassThree:msg:\", msg*4)\n",
    "\n",
    "inD3 = DerivedClassThree()\n",
    "print(\"global:type(inD3):\",type(inD3))\n",
    "print(\"global:DerivedClassThree.__dict__:\", DerivedClassThree.__dict__)\n",
    "inD3.f(\"From inD3\")\n",
    "print(\"\\n \\n\")\n",
    "print(DerivedClassThree.__mro__)"
   ]
  },
  {
   "cell_type": "markdown",
   "id": "a8fa9dea",
   "metadata": {},
   "source": [
    "# Polymorphism"
   ]
  },
  {
   "cell_type": "code",
   "execution_count": 8,
   "id": "867c502b",
   "metadata": {},
   "outputs": [
    {
     "name": "stdout",
     "output_type": "stream",
     "text": [
      "I'm triangle action\n"
     ]
    }
   ],
   "source": [
    "class shape:\n",
    "    def draw(self):\n",
    "        self.action()\n",
    "\n",
    "class Triangle(shape):\n",
    "    def action(self):\n",
    "        print(\"I'm triangle action\")\n",
    "        \n",
    "t=Triangle()\n",
    "t.draw()"
   ]
  },
  {
   "cell_type": "code",
   "execution_count": 9,
   "id": "5bd6553e",
   "metadata": {},
   "outputs": [
    {
     "name": "stdout",
     "output_type": "stream",
     "text": [
      "<__main__.Triangle object at 0x7f356e830e20>\n",
      "I'm triangle action\n"
     ]
    }
   ],
   "source": [
    "class shape:\n",
    "    def draw(self):\n",
    "        print(self)\n",
    "        self.action()\n",
    "\n",
    "class Triangle(shape):\n",
    "    def action(self):\n",
    "        print(\"I'm triangle action\")\n",
    "        \n",
    "t=Triangle()\n",
    "t.draw()"
   ]
  },
  {
   "cell_type": "code",
   "execution_count": 10,
   "id": "799b6c05",
   "metadata": {},
   "outputs": [
    {
     "name": "stdout",
     "output_type": "stream",
     "text": [
      "<__main__.shape object at 0x7f358c39a370>\n"
     ]
    },
    {
     "ename": "AttributeError",
     "evalue": "'shape' object has no attribute 'action'",
     "output_type": "error",
     "traceback": [
      "\u001b[0;31m---------------------------------------------------------------------------\u001b[0m",
      "\u001b[0;31mAttributeError\u001b[0m                            Traceback (most recent call last)",
      "Input \u001b[0;32mIn [10]\u001b[0m, in \u001b[0;36m<cell line: 2>\u001b[0;34m()\u001b[0m\n\u001b[1;32m      1\u001b[0m s\u001b[38;5;241m=\u001b[39mshape()\n\u001b[0;32m----> 2\u001b[0m \u001b[43ms\u001b[49m\u001b[38;5;241;43m.\u001b[39;49m\u001b[43mdraw\u001b[49m\u001b[43m(\u001b[49m\u001b[43m)\u001b[49m\n",
      "Input \u001b[0;32mIn [9]\u001b[0m, in \u001b[0;36mshape.draw\u001b[0;34m(self)\u001b[0m\n\u001b[1;32m      2\u001b[0m \u001b[38;5;28;01mdef\u001b[39;00m \u001b[38;5;21mdraw\u001b[39m(\u001b[38;5;28mself\u001b[39m):\n\u001b[1;32m      3\u001b[0m     \u001b[38;5;28mprint\u001b[39m(\u001b[38;5;28mself\u001b[39m)\n\u001b[0;32m----> 4\u001b[0m     \u001b[38;5;28;43mself\u001b[39;49m\u001b[38;5;241;43m.\u001b[39;49m\u001b[43maction\u001b[49m()\n",
      "\u001b[0;31mAttributeError\u001b[0m: 'shape' object has no attribute 'action'"
     ]
    }
   ],
   "source": [
    "s=shape()\n",
    "s.draw()"
   ]
  },
  {
   "cell_type": "code",
   "execution_count": null,
   "id": "b12f4ec5",
   "metadata": {},
   "outputs": [],
   "source": []
  }
 ],
 "metadata": {
  "kernelspec": {
   "display_name": "Python 3 (ipykernel)",
   "language": "python",
   "name": "python3"
  },
  "language_info": {
   "codemirror_mode": {
    "name": "ipython",
    "version": 3
   },
   "file_extension": ".py",
   "mimetype": "text/x-python",
   "name": "python",
   "nbconvert_exporter": "python",
   "pygments_lexer": "ipython3",
   "version": "3.8.10"
  }
 },
 "nbformat": 4,
 "nbformat_minor": 5
}
