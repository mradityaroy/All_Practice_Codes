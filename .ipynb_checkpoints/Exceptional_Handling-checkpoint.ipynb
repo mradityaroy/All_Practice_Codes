{
 "cells": [
  {
   "cell_type": "code",
   "execution_count": null,
   "id": "8bebb9a1",
   "metadata": {},
   "outputs": [],
   "source": [
    "def f1():\n",
    "    raise TypeError(\"f1:having fun\")\n",
    "def f2():\n",
    "    raise IndexError(\"f2:having fun\")\n",
    "def f3():\n",
    "    raise UnboundError(\"f3:having fun\")\n",
    "def f4():\n",
    "    print(\"in f4\")\n",
    "def f5():\n",
    "    print(\"in f5\")\n",
    "    \n",
    "for i in range(5):\n",
    "    n = random.radint(0,10000)%5\n",
    "    if n==0:\n",
    "        f1()\n",
    "    elif n==1:\n",
    "        f2()\n",
    "    elif n==2:\n",
    "        f3\n",
    "    elif n==3:\n",
    "        f4()\n",
    "    elif n==4:\n",
    "        f5()"
   ]
  }
 ],
 "metadata": {
  "kernelspec": {
   "display_name": "Python 3 (ipykernel)",
   "language": "python",
   "name": "python3"
  },
  "language_info": {
   "codemirror_mode": {
    "name": "ipython",
    "version": 3
   },
   "file_extension": ".py",
   "mimetype": "text/x-python",
   "name": "python",
   "nbconvert_exporter": "python",
   "pygments_lexer": "ipython3",
   "version": "3.8.10"
  }
 },
 "nbformat": 4,
 "nbformat_minor": 5
}
