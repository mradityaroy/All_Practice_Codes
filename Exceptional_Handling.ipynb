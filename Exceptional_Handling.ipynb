{
 "cells": [
  {
   "cell_type": "code",
   "execution_count": 6,
   "id": "b9e71e7f",
   "metadata": {},
   "outputs": [
    {
     "name": "stdout",
     "output_type": "stream",
     "text": [
      "in f4\n",
      "in f4\n"
     ]
    },
    {
     "ename": "IndexError",
     "evalue": "f2:having fun",
     "output_type": "error",
     "traceback": [
      "\u001b[0;31m---------------------------------------------------------------------------\u001b[0m",
      "\u001b[0;31mIndexError\u001b[0m                                Traceback (most recent call last)",
      "Input \u001b[0;32mIn [6]\u001b[0m, in \u001b[0;36m<cell line: 15>\u001b[0;34m()\u001b[0m\n\u001b[1;32m     18\u001b[0m     f1()\n\u001b[1;32m     19\u001b[0m \u001b[38;5;28;01melif\u001b[39;00m n\u001b[38;5;241m==\u001b[39m\u001b[38;5;241m1\u001b[39m:\n\u001b[0;32m---> 20\u001b[0m     \u001b[43mf2\u001b[49m\u001b[43m(\u001b[49m\u001b[43m)\u001b[49m\n\u001b[1;32m     21\u001b[0m \u001b[38;5;28;01melif\u001b[39;00m n\u001b[38;5;241m==\u001b[39m\u001b[38;5;241m2\u001b[39m:\n\u001b[1;32m     22\u001b[0m     f3\n",
      "Input \u001b[0;32mIn [6]\u001b[0m, in \u001b[0;36mf2\u001b[0;34m()\u001b[0m\n\u001b[1;32m      5\u001b[0m \u001b[38;5;28;01mdef\u001b[39;00m \u001b[38;5;21mf2\u001b[39m():\n\u001b[0;32m----> 6\u001b[0m     \u001b[38;5;28;01mraise\u001b[39;00m \u001b[38;5;167;01mIndexError\u001b[39;00m(\u001b[38;5;124m\"\u001b[39m\u001b[38;5;124mf2:having fun\u001b[39m\u001b[38;5;124m\"\u001b[39m)\n",
      "\u001b[0;31mIndexError\u001b[0m: f2:having fun"
     ]
    }
   ],
   "source": [
    "import random, time\n",
    "\n",
    "def f1():\n",
    "    raise TypeError(\"f1:having fun\")\n",
    "def f2():\n",
    "    raise IndexError(\"f2:having fun\")\n",
    "def f3():\n",
    "    raise UnboundError(\"f3:having fun\")\n",
    "def f4():\n",
    "    print(\"in f4\")\n",
    "def f5():\n",
    "    print(\"in f5\")\n",
    "\n",
    "random.seed(int(time.time()))    \n",
    "for i in range(5):\n",
    "    n = random.randint(0,10000)%5\n",
    "    if n==0:\n",
    "        f1()\n",
    "    elif n==1:\n",
    "        f2()\n",
    "    elif n==2:\n",
    "        f3\n",
    "    elif n==3:\n",
    "        f4()\n",
    "    elif n==4:\n",
    "        f5()"
   ]
  },
  {
   "cell_type": "code",
   "execution_count": null,
   "id": "462f628a",
   "metadata": {},
   "outputs": [],
   "source": []
  },
  {
   "cell_type": "code",
   "execution_count": 7,
   "id": "44cb9091",
   "metadata": {},
   "outputs": [
    {
     "name": "stdout",
     "output_type": "stream",
     "text": [
      "in f5\n",
      "in f4\n",
      "exception has been caught\n"
     ]
    }
   ],
   "source": [
    "import random, time\n",
    "\n",
    "def f1():\n",
    "    raise TypeError(\"f1:having fun\")\n",
    "def f2():\n",
    "    raise IndexError(\"f2:having fun\")\n",
    "def f3():\n",
    "    raise UnboundError(\"f3:having fun\")\n",
    "def f4():\n",
    "    print(\"in f4\")\n",
    "def f5():\n",
    "    print(\"in f5\")\n",
    "\n",
    "random.seed(int(time.time()))   \n",
    "try:\n",
    "    for i in range(5):\n",
    "        n = random.randint(0,10000)%5\n",
    "        if n==0:\n",
    "            f1()\n",
    "        elif n==1:\n",
    "            f2()\n",
    "        elif n==2:\n",
    "            f3\n",
    "        elif n==3:\n",
    "            f4()\n",
    "        elif n==4:\n",
    "            f5()\n",
    "except:\n",
    "    print(\"exception has been caught\")"
   ]
  },
  {
   "cell_type": "code",
   "execution_count": 8,
   "id": "71b89a39",
   "metadata": {},
   "outputs": [
    {
     "name": "stdout",
     "output_type": "stream",
     "text": [
      "exception has been caught\n",
      "exception occured but safe\n"
     ]
    }
   ],
   "source": [
    "import random, time\n",
    "\n",
    "def f1():\n",
    "    raise TypeError(\"f1:having fun\")\n",
    "def f2():\n",
    "    raise IndexError(\"f2:having fun\")\n",
    "def f3():\n",
    "    raise UnboundError(\"f3:having fun\")\n",
    "def f4():\n",
    "    print(\"in f4\")\n",
    "def f5():\n",
    "    print(\"in f5\")\n",
    "\n",
    "random.seed(int(time.time()))   \n",
    "try:\n",
    "    for i in range(5):\n",
    "        n = random.randint(0,10000)%5\n",
    "        if n==0:\n",
    "            f1()\n",
    "        elif n==1:\n",
    "            f2()\n",
    "        elif n==2:\n",
    "            f3\n",
    "        elif n==3:\n",
    "            f4()\n",
    "        elif n==4:\n",
    "            f5()\n",
    "except:\n",
    "    print(\"exception has been caught\")\n",
    "print(\"exception occured but safe\")"
   ]
  },
  {
   "cell_type": "code",
   "execution_count": null,
   "id": "901276d5",
   "metadata": {},
   "outputs": [],
   "source": []
  }
 ],
 "metadata": {
  "kernelspec": {
   "display_name": "Python 3 (ipykernel)",
   "language": "python",
   "name": "python3"
  },
  "language_info": {
   "codemirror_mode": {
    "name": "ipython",
    "version": 3
   },
   "file_extension": ".py",
   "mimetype": "text/x-python",
   "name": "python",
   "nbconvert_exporter": "python",
   "pygments_lexer": "ipython3",
   "version": "3.8.10"
  }
 },
 "nbformat": 4,
 "nbformat_minor": 5
}
