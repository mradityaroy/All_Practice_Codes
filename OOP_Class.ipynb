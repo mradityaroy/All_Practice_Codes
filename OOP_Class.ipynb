{
 "cells": [
  {
   "cell_type": "code",
   "execution_count": 10,
   "id": "b0e00933",
   "metadata": {},
   "outputs": [],
   "source": [
    "class T:\n",
    "    pass\n"
   ]
  },
  {
   "cell_type": "code",
   "execution_count": 12,
   "id": "168175db",
   "metadata": {},
   "outputs": [],
   "source": [
    "x=T()"
   ]
  },
  {
   "cell_type": "code",
   "execution_count": 13,
   "id": "f7cfbe70",
   "metadata": {},
   "outputs": [
    {
     "name": "stdout",
     "output_type": "stream",
     "text": [
      "<class '__main__.T'>\n"
     ]
    }
   ],
   "source": [
    "print(type(x))"
   ]
  },
  {
   "cell_type": "code",
   "execution_count": 15,
   "id": "2d69b40a",
   "metadata": {},
   "outputs": [
    {
     "name": "stdout",
     "output_type": "stream",
     "text": [
      "<class 'type'>\n"
     ]
    }
   ],
   "source": [
    "print(type(T))"
   ]
  },
  {
   "cell_type": "markdown",
   "id": "7f870086",
   "metadata": {},
   "source": [
    "# Test Class"
   ]
  },
  {
   "cell_type": "code",
   "execution_count": 3,
   "id": "07dbfbf0",
   "metadata": {},
   "outputs": [
    {
     "name": "stdout",
     "output_type": "stream",
     "text": [
      "10\n",
      "type(t): <class '__main__.TestClass'>\n"
     ]
    }
   ],
   "source": [
    "import sys\n",
    " \n",
    "class TestClass:\n",
    "    def __init__(self,n,f,s):  #constructor\n",
    "        if type(n) !=int:\n",
    "            raise TypeError(\"Bad argument\")\n",
    "        if type(f) !=float:\n",
    "            raise TypeError(\"Bad argument\")\n",
    "        if type(s) !=str:\n",
    "            raise TypeError(\"Bad argument\")\n",
    "        self.num=n\n",
    "        self.f_num=f\n",
    "        self.s=s\n",
    "        print(self.num)\n",
    "def main():\n",
    "    t=TestClass(10,3.14,\"Hello\")\n",
    "    print(\"type(t):\",type(t ))\n",
    "#     t.f\n",
    "    sys.exit\n",
    "    \n",
    "main()"
   ]
  },
  {
   "cell_type": "code",
   "execution_count": null,
   "id": "65ee7dec",
   "metadata": {},
   "outputs": [],
   "source": []
  },
  {
   "cell_type": "code",
   "execution_count": 24,
   "id": "8c257e1d",
   "metadata": {},
   "outputs": [
    {
     "name": "stdout",
     "output_type": "stream",
     "text": [
      "type(t): <class '__main__.TestClass'>\n"
     ]
    },
    {
     "ename": "SystemExit",
     "evalue": "0",
     "output_type": "error",
     "traceback": [
      "An exception has occurred, use %tb to see the full traceback.\n",
      "\u001b[0;31mSystemExit\u001b[0m\u001b[0;31m:\u001b[0m 0\n"
     ]
    }
   ],
   "source": [
    "import sys\n",
    " \n",
    "class TestClass:\n",
    "    def __init__(self,n,f,s):  #constructor\n",
    "        if type(n) !=int:\n",
    "            raise TypeError(\"Bad argument\")\n",
    "        if type(f) !=float:\n",
    "            raise TypeError(\"Bad argument\")\n",
    "        if type(s) !=str:\n",
    "            raise TypeError(\"Bad argument\")\n",
    "        self.num=n\n",
    "        self.f_num=f\n",
    "        self.s=s\n",
    "def main():\n",
    "    t=TestClass(n=10,f=3.14,s=\"Hello\")\n",
    "    print(\"type(t):\",type(t ))\n",
    "    sys.exit(0)\n",
    "    \n",
    "main()"
   ]
  },
  {
   "cell_type": "code",
   "execution_count": 27,
   "id": "3266ba06",
   "metadata": {},
   "outputs": [],
   "source": [
    "class f:\n",
    "    pass\n",
    "def f():\n",
    "    pass"
   ]
  },
  {
   "cell_type": "code",
   "execution_count": 28,
   "id": "12cf93aa",
   "metadata": {},
   "outputs": [
    {
     "data": {
      "text/plain": [
       "function"
      ]
     },
     "execution_count": 28,
     "metadata": {},
     "output_type": "execute_result"
    }
   ],
   "source": [
    "type(f)"
   ]
  },
  {
   "cell_type": "code",
   "execution_count": 2,
   "id": "bcf3664e",
   "metadata": {},
   "outputs": [
    {
     "name": "stdout",
     "output_type": "stream",
     "text": [
      "type(t): <class '__main__.TestClass'>\n"
     ]
    },
    {
     "ename": "SystemExit",
     "evalue": "0",
     "output_type": "error",
     "traceback": [
      "An exception has occurred, use %tb to see the full traceback.\n",
      "\u001b[0;31mSystemExit\u001b[0m\u001b[0;31m:\u001b[0m 0\n"
     ]
    }
   ],
   "source": [
    "import sys\n",
    " \n",
    "class _TestClass:\n",
    "    def __init__(self,n,f,s):  #constructor\n",
    "        if type(n) !=int:\n",
    "            raise TypeError(\"Bad argument\")\n",
    "        if type(f) !=float:\n",
    "            raise TypeError(\"Bad argument\")\n",
    "        if type(s) !=str:\n",
    "            raise TypeError(\"Bad argument\")\n",
    "        self.num=n\n",
    "        self.f_num=f\n",
    "        self.s=s\n",
    "def main():\n",
    "    t=TestClass(10,3.14,\"Hello\")\n",
    "    print(\"type(t):\",type(t ))\n",
    "    sys.exit(0)\n",
    "    \n",
    "main()"
   ]
  },
  {
   "cell_type": "code",
   "execution_count": 7,
   "id": "74eea56b",
   "metadata": {},
   "outputs": [
    {
     "name": "stdout",
     "output_type": "stream",
     "text": [
      "enter a number2\n",
      "enter a float number3.14\n",
      "enter a stringhello\n",
      "2\n",
      "9801280\n",
      "140486706908944\n",
      "140486837860336\n",
      "9801280\n",
      "140486706908944\n",
      "140486837860336\n"
     ]
    }
   ],
   "source": [
    "import sys\n",
    " \n",
    "class TestClass2:\n",
    "    def __init__(self,n,f,s):  #constructor\n",
    "        if type(n) !=int:\n",
    "            raise TypeError(\"Bad argument\")\n",
    "        if type(f) !=float:\n",
    "            raise TypeError(\"Bad argument\")\n",
    "        if type(s) !=str:\n",
    "            raise TypeError(\"Bad argument\")\n",
    "        self.num=n\n",
    "        self.f_num=f\n",
    "        self.s=s\n",
    "def main():\n",
    "    n=int(input(\"enter a number\"))\n",
    "    f=float(input(\"enter a float number\"))\n",
    "    s=input(\"enter a string\")\n",
    "    t=TestClass(n,f,s)\n",
    "    print(id(n))\n",
    "    print(id(f))\n",
    "    print(id(s))\n",
    "    print(id(t.num))\n",
    "    print(id(t.f_num))\n",
    "    print(id(t.s))\n",
    "    sys.exit\n",
    "    \n",
    "main()"
   ]
  },
  {
   "cell_type": "code",
   "execution_count": 2,
   "id": "ba9e3377",
   "metadata": {},
   "outputs": [
    {
     "name": "stdout",
     "output_type": "stream",
     "text": [
      "enter a number2\n",
      "enter a float number2.12\n",
      "enter a stringhello\n",
      "n = 5\n",
      "t.num = 2\n",
      "9801376\n",
      "140688097889936\n",
      "140688103561456\n",
      "9801280\n",
      "140688097889936\n",
      "140688103561456\n"
     ]
    },
    {
     "ename": "SystemExit",
     "evalue": "0",
     "output_type": "error",
     "traceback": [
      "An exception has occurred, use %tb to see the full traceback.\n",
      "\u001b[0;31mSystemExit\u001b[0m\u001b[0;31m:\u001b[0m 0\n"
     ]
    },
    {
     "name": "stderr",
     "output_type": "stream",
     "text": [
      "/home/aditya/.local/lib/python3.8/site-packages/IPython/core/interactiveshell.py:3406: UserWarning: To exit: use 'exit', 'quit', or Ctrl-D.\n",
      "  warn(\"To exit: use 'exit', 'quit', or Ctrl-D.\", stacklevel=1)\n"
     ]
    }
   ],
   "source": [
    "import sys\n",
    " \n",
    "class TestClass2:\n",
    "    def __init__(self,n,f,s):  #constructor\n",
    "        if type(n) !=int:\n",
    "            raise TypeError(\"Bad argument\")\n",
    "        if type(f) !=float:\n",
    "            raise TypeError(\"Bad argument\")\n",
    "        if type(s) !=str:\n",
    "            raise TypeError(\"Bad argument\")\n",
    "        self.num=n\n",
    "        self.f_num=f\n",
    "        self.s=s\n",
    "def main():\n",
    "    n=int(input(\"enter a number\"))\n",
    "    f=float(input(\"enter a float number\"))\n",
    "    s=input(\"enter a string\")\n",
    "    t=TestClass2(n,f,s)\n",
    "    n=5\n",
    "    print(\"n =\",n)\n",
    "    print(\"t.num =\",t.num)\n",
    "    \n",
    "    print(id(n))\n",
    "    print(id(f))\n",
    "    print(id(s))\n",
    "    print(id(t.num))\n",
    "    print(id(t.f_num))\n",
    "    print(id(t.s))\n",
    "    sys.exit(0)\n",
    "    \n",
    "main()"
   ]
  },
  {
   "cell_type": "code",
   "execution_count": 3,
   "id": "5b38f6fc",
   "metadata": {},
   "outputs": [
    {
     "name": "stdout",
     "output_type": "stream",
     "text": [
      "enter a float number2.13\n",
      "enter a stringhello\n",
      "n = [10, 20, 30, 40]\n",
      "t.num = [10, 20, 30]\n",
      "140687847995584\n",
      "140688103496048\n",
      "140687847996144\n",
      "140688154283904\n",
      "140688103496048\n",
      "140687847996144\n"
     ]
    },
    {
     "ename": "SystemExit",
     "evalue": "0",
     "output_type": "error",
     "traceback": [
      "An exception has occurred, use %tb to see the full traceback.\n",
      "\u001b[0;31mSystemExit\u001b[0m\u001b[0;31m:\u001b[0m 0\n"
     ]
    }
   ],
   "source": [
    "import sys\n",
    " \n",
    "class TestClass3:\n",
    "    def __init__(self,n,f,s):  #constructor\n",
    "        if type(n) !=list:\n",
    "            raise TypeError(\"Bad argument\")\n",
    "        if type(f) !=float:\n",
    "            raise TypeError(\"Bad argument\")\n",
    "        if type(s) !=str:\n",
    "            raise TypeError(\"Bad argument\")\n",
    "        self.num=n\n",
    "        self.f_num=f\n",
    "        self.s=s\n",
    "def main():\n",
    "    n=[10,20,30]\n",
    "    f=float(input(\"enter a float number\"))\n",
    "    s=input(\"enter a string\")\n",
    "    t=TestClass3(n,f,s)\n",
    "    n=[10,20,30,40]\n",
    "    print(\"n =\",n)\n",
    "    print(\"t.num =\",t.num)\n",
    "    \n",
    "    print(id(n))\n",
    "    \n",
    "    print(id(f))\n",
    "    print(id(s))\n",
    "    print(id(t.num))\n",
    "    print(id(t.f_num))\n",
    "    print(id(t.s))\n",
    "    sys.exit(0)\n",
    "    \n",
    "main()"
   ]
  },
  {
   "cell_type": "code",
   "execution_count": 4,
   "id": "bf3bed46",
   "metadata": {},
   "outputs": [
    {
     "name": "stdout",
     "output_type": "stream",
     "text": [
      "enter a float number2.12\n",
      "enter a stringabc\n",
      "n = [10, 20, 30, 40]\n",
      "t.num = [10, 20, 30, 40]\n",
      "140687847995776\n",
      "140688097886672\n",
      "140687848008752\n",
      "140687847995776\n",
      "140688097886672\n",
      "140687848008752\n"
     ]
    },
    {
     "ename": "SystemExit",
     "evalue": "0",
     "output_type": "error",
     "traceback": [
      "An exception has occurred, use %tb to see the full traceback.\n",
      "\u001b[0;31mSystemExit\u001b[0m\u001b[0;31m:\u001b[0m 0\n"
     ]
    }
   ],
   "source": [
    "import sys\n",
    " \n",
    "class TestClass4:\n",
    "    def __init__(self,n,f,s):  #constructor\n",
    "        if type(n) !=list:\n",
    "            raise TypeError(\"Bad argument\")\n",
    "        if type(f) !=float:\n",
    "            raise TypeError(\"Bad argument\")\n",
    "        if type(s) !=str:\n",
    "            raise TypeError(\"Bad argument\")\n",
    "        self.num=n\n",
    "        self.f_num=f\n",
    "        self.s=s\n",
    "def main():\n",
    "    n=[10,20,30]\n",
    "    f=float(input(\"enter a float number\"))\n",
    "    s=input(\"enter a string\")\n",
    "    t=TestClass4(n,f,s)\n",
    "    n.append(40)\n",
    "    print(\"n =\",n)\n",
    "    print(\"t.num =\",t.num)\n",
    "    \n",
    "    print(id(n))\n",
    "    \n",
    "    print(id(f))\n",
    "    print(id(s))\n",
    "    print(id(t.num))\n",
    "    print(id(t.f_num))\n",
    "    print(id(t.s))\n",
    "    sys.exit(0)\n",
    "    \n",
    "main()"
   ]
  },
  {
   "cell_type": "code",
   "execution_count": 7,
   "id": "47e2a45d",
   "metadata": {},
   "outputs": [
    {
     "name": "stdout",
     "output_type": "stream",
     "text": [
      "enter a float number2.12\n",
      "enter a stringhello\n",
      "n = [10, 20, 30, 40]\n",
      "t.num = [10, 20, 30]\n",
      "140688103289472\n",
      "140688097887760\n",
      "140688097929968\n",
      "140688097930752\n",
      "140688097887760\n",
      "140688097929968\n"
     ]
    },
    {
     "ename": "SystemExit",
     "evalue": "0",
     "output_type": "error",
     "traceback": [
      "An exception has occurred, use %tb to see the full traceback.\n",
      "\u001b[0;31mSystemExit\u001b[0m\u001b[0;31m:\u001b[0m 0\n"
     ]
    }
   ],
   "source": [
    "import sys\n",
    " \n",
    "class TestClass5:\n",
    "    def __init__(self,n,f,s):  #constructor\n",
    "        if type(n) !=list:\n",
    "            raise TypeError(\"Bad argument\")\n",
    "        if type(f) !=float:\n",
    "            raise TypeError(\"Bad argument\")\n",
    "        if type(s) !=str:\n",
    "            raise TypeError(\"Bad argument\")\n",
    "        self.num=n\n",
    "        self.f_num=f\n",
    "        self.s=s\n",
    "def main():\n",
    "    n=[10,20,30]\n",
    "    f=float(input(\"enter a float number\"))\n",
    "    s=input(\"enter a string\")\n",
    "    t=TestClass5(n.copy(),f,s)\n",
    "    n.append(40)\n",
    "    print(\"n =\",n)\n",
    "    print(\"t.num =\",t.num)\n",
    "    \n",
    "    print(id(n))\n",
    "    \n",
    "    print(id(f))\n",
    "    print(id(s))\n",
    "    print(id(t.num))\n",
    "    print(id(t.f_num))\n",
    "    print(id(t.s))\n",
    "    sys.exit(0)\n",
    "    \n",
    "main()"
   ]
  },
  {
   "cell_type": "code",
   "execution_count": 10,
   "id": "2367789d",
   "metadata": {},
   "outputs": [
    {
     "name": "stdout",
     "output_type": "stream",
     "text": [
      "enter a float number5.1\n",
      "enter a stringstring\n",
      "n = [10, 20, 30, 40]\n",
      "t.num = [10, 20, 30]\n",
      "n 140687843080704\n",
      "f 140687842767568\n",
      "s 140687842586544\n",
      "t.num 140687842584256\n",
      "t.f_num 140687842767568\n",
      "t.s 140687842586544\n"
     ]
    },
    {
     "ename": "SystemExit",
     "evalue": "0",
     "output_type": "error",
     "traceback": [
      "An exception has occurred, use %tb to see the full traceback.\n",
      "\u001b[0;31mSystemExit\u001b[0m\u001b[0;31m:\u001b[0m 0\n"
     ]
    }
   ],
   "source": [
    "import sys\n",
    " \n",
    "class TestClass6:\n",
    "    def __init__(self,n,f,s):  #constructor\n",
    "        if type(n) !=list:\n",
    "            raise TypeError(\"Bad argument\")\n",
    "        if type(f) !=float:\n",
    "            raise TypeError(\"Bad argument\")\n",
    "        if type(s) !=str:\n",
    "            raise TypeError(\"Bad argument\")\n",
    "        self.num=n\n",
    "        self.f_num=f\n",
    "        self.s=s\n",
    "def main():\n",
    "    n=[10,20,30]\n",
    "    f=float(input(\"enter a float number\"))\n",
    "    s=input(\"enter a string\")\n",
    "    a,b=f,s\n",
    "    t=TestClass6(n.copy(),f,s)\n",
    "    n.append(40)\n",
    "    print(\"n =\",n)\n",
    "    print(\"t.num =\",t.num)\n",
    "    \n",
    "    print('n',id(n))\n",
    "    \n",
    "    print('f',id(f))\n",
    "    print('s',id(s))\n",
    "    print('t.num',id(t.num))\n",
    "    print('t.f_num',id(t.f_num))\n",
    "    print('t.s',id(t.s))\n",
    "    sys.exit(0)\n",
    "    \n",
    "main()"
   ]
  },
  {
   "cell_type": "code",
   "execution_count": 13,
   "id": "0a4b6fe9",
   "metadata": {},
   "outputs": [
    {
     "name": "stdout",
     "output_type": "stream",
     "text": [
      "enter a number100\n",
      "enter a float number3.14\n",
      "enter a stringHello\n",
      "t.get_int 100\n",
      "t.get_int 20000\n"
     ]
    }
   ],
   "source": [
    "import sys\n",
    " \n",
    "class TestClass7:\n",
    "    def __init__(self,n,f,s):  #constructor\n",
    "        if type(n) !=int:\n",
    "            raise TypeError(\"Bad argument\")\n",
    "        if type(f) !=float:\n",
    "            raise TypeError(\"Bad argument\")\n",
    "        if type(s) !=str:\n",
    "            raise TypeError(\"Bad argument\")\n",
    "        self.num=n\n",
    "        self.f_num=f\n",
    "        self.s=s\n",
    "        \n",
    "    def get_int(self):\n",
    "        return (self.num)\n",
    "    \n",
    "    def set_int(self,new_int):\n",
    "        self.num = new_int\n",
    "                \n",
    "def main():\n",
    "    n=int(input(\"enter a number\"))\n",
    "    f=float(input(\"enter a float number\"))\n",
    "    s=input(\"enter a string\")\n",
    "    t=TestClass7(n,f,s)\n",
    "    print(\"t.get_int\", t.get_int())\n",
    "    t.set_int(20000)\n",
    "    print(\"t.get_int\", t.get_int())\n",
    "    \n",
    "    sys.exit\n",
    "    \n",
    "main()"
   ]
  },
  {
   "cell_type": "code",
   "execution_count": 15,
   "id": "974cf3ca",
   "metadata": {},
   "outputs": [
    {
     "name": "stdout",
     "output_type": "stream",
     "text": [
      "enter a number100\n",
      "enter a float number3.14\n",
      "enter a stringHellooo\n",
      "t.get_int 100\n",
      "t.get_int 20000\n",
      "TestClass.get_int(t) -100000\n"
     ]
    }
   ],
   "source": [
    "import sys\n",
    " \n",
    "class TestClass8:\n",
    "    def __init__(self,n,f,s):  #constructor\n",
    "        if type(n) !=int:\n",
    "            raise TypeError(\"Bad argument\")\n",
    "        if type(f) !=float:\n",
    "            raise TypeError(\"Bad argument\")\n",
    "        if type(s) !=str:\n",
    "            raise TypeError(\"Bad argument\")\n",
    "        self.num=n\n",
    "        self.f_num=f\n",
    "        self.s=s\n",
    "        \n",
    "    def get_int(self):\n",
    "        return (self.num)\n",
    "    \n",
    "    def set_int(self,new_int):\n",
    "        self.num = new_int\n",
    "                \n",
    "def main():\n",
    "    n=int(input(\"enter a number\"))\n",
    "    f=float(input(\"enter a float number\"))\n",
    "    s=input(\"enter a string\")\n",
    "    t=TestClass8(n,f,s)\n",
    "    print(\"t.get_int\", t.get_int())\n",
    "    t.set_int(20000)\n",
    "    print(\"t.get_int\", t.get_int())\n",
    "    TestClass8.set_int(t,-100000)\n",
    "    print(\"TestClass.get_int(t)\",TestClass8.get_int(t))\n",
    "    sys.exit\n",
    "    \n",
    "main()"
   ]
  },
  {
   "cell_type": "code",
   "execution_count": null,
   "id": "a17a0926",
   "metadata": {},
   "outputs": [],
   "source": []
  }
 ],
 "metadata": {
  "kernelspec": {
   "display_name": "Python 3 (ipykernel)",
   "language": "python",
   "name": "python3"
  },
  "language_info": {
   "codemirror_mode": {
    "name": "ipython",
    "version": 3
   },
   "file_extension": ".py",
   "mimetype": "text/x-python",
   "name": "python",
   "nbconvert_exporter": "python",
   "pygments_lexer": "ipython3",
   "version": "3.8.10"
  }
 },
 "nbformat": 4,
 "nbformat_minor": 5
}
