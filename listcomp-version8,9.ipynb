{
 "cells": [
  {
   "cell_type": "code",
   "execution_count": 2,
   "metadata": {},
   "outputs": [],
   "source": [
    "l=[(x**2-y**3+z**4) for x in range(10) if x%2==0\n",
    "                    for y in range(20) if y%3==0\n",
    "                    for z in range(9 ) if z%2==0\n",
    "                    if (x**2 -y**3+z**4)%7==0]"
   ]
  },
  {
   "cell_type": "code",
   "execution_count": 3,
   "metadata": {},
   "outputs": [
    {
     "name": "stdout",
     "output_type": "stream",
     "text": [
      "[0, 567, 3367, -2079, 721, -4536, -1736, -7, -196, -469, -1708, -3115, -5572, 245, 56, -1456, -693, -3339, -5796, -665, -3311, -5768]\n"
     ]
    }
   ],
   "source": [
    "print(l)"
   ]
  },
  {
   "cell_type": "markdown",
   "metadata": {},
   "source": [
    "# Manual Comprehension"
   ]
  },
  {
   "cell_type": "raw",
   "metadata": {},
   "source": [
    "l1=[x for x in range(10)]\n",
    "l2=[y for y in range(20)]\n",
    "l3=[z for z in range(9)]\n",
    "l1_f=[]\n",
    "l2_f=[]\n",
    "l3_f=[]\n",
    "for x in l1:\n",
    "   if x%2==0:\n",
    "       l1_f.append(x)\n",
    "for y in l2:\n",
    "   if y%3==0:\n",
    "       l2_f.append(y)\n",
    "for z in l3:\n",
    "   if z%2==0:\n",
    "       l3_f.append(z)\n",
    "for i in range(len(l1_f):\n",
    "   l1_f[i]=l1[i]**2\n",
    "for i in range(len(l2_f):\n",
    "   l2_f[i]=l2[i]**3\n",
    "for i in range(len(l3_f):\n",
    "   l3_f[i]=l3[i]**4\n",
    "cart=[]\n",
    "for x in l1_f:\n",
    "   for y in l2_f:\n",
    "       for z in l3_f:\n",
    "           cart.append((x,y,z))\n",
    "rs=[]\n",
    "for t in cart:\n",
    "   rs.append(t[0]-t[1]+t[2]\n",
    "rs_f=[]\n",
    "for x in rs:\n",
    "   if x%7==0:\n",
    "       rs.append(x)\n",
    "print(rs)"
   ]
  },
  {
   "cell_type": "code",
   "execution_count": null,
   "metadata": {},
   "outputs": [],
   "source": [
    "l1=[x for x in range(10)]\n",
    "l2=[y for y in range(20)]\n",
    "l3=[z for z in range(9)]\n",
    "l1_f=[]\n",
    "l2_f=[]\n",
    "l3_f=[]\n",
    "for x in l1:\n",
    "    if x%2==0:\n",
    "        l1_f.append(x)\n",
    "for y in l2:\n",
    "    if y%3==0:\n",
    "        l2_f.append(y)\n",
    "for z in l3:\n",
    "    if z%2==0:\n",
    "        l3_f.append(z)\n",
    "for i in range(len(l1_f)):\n",
    "    l1_f[i]=l1[i]**2\n",
    "for i in range(len(l2_f)):\n",
    "    l2_f[i]=l2[i]**3\n",
    "for i in range(len(l3_f)):\n",
    "    l3_f[i]=l3[i]**4\n",
    "cart=[]\n",
    "for x in l1_f:\n",
    "    for y in l2_f:\n",
    "        for z in l3_f:\n",
    "            cart.append((x,y,z))\n",
    "rs=[]\n",
    "for t in cart:\n",
    "    rs.append(t[0]-t[1]+t[2])\n",
    "rs_f=[]\n",
    "for x in rs:\n",
    "    if x%7==0:\n",
    "        rs.append(x)\n",
    "print(rs)"
   ]
  },
  {
   "cell_type": "code",
   "execution_count": null,
   "metadata": {},
   "outputs": [],
   "source": [
    "rs"
   ]
  },
  {
   "cell_type": "raw",
   "metadata": {},
   "source": [
    "l1=[x for x in range(10)]\n",
    "l2=[y for y in range(20)]\n",
    "l3=[z for z in range(9)]\n",
    "rs=[]\n",
    "for i in l1:\n",
    "    if i%2==0:\n",
    "        for j in l2:\n",
    "            if j%3==0:\n",
    "                for k in l3:\n",
    "                    if k%2==0:\n",
    "                        tmp=i**2-j**3+k**4\n",
    "                        if tmp%7==0:\n",
    "                            rs.append(tmp)\n",
    "print(rs)\n",
    "    \n",
    "    "
   ]
  },
  {
   "cell_type": "code",
   "execution_count": 4,
   "metadata": {},
   "outputs": [
    {
     "name": "stdout",
     "output_type": "stream",
     "text": [
      "[0, 567, 3367, -2079, 721, -4536, -1736, -7, -196, -469, -1708, -3115, -5572, 245, 56, -1456, -693, -3339, -5796, -665, -3311, -5768]\n"
     ]
    }
   ],
   "source": [
    "l1=[x for x in range(10)]\n",
    "l2=[y for y in range(20)]\n",
    "l3=[z for z in range(9)]\n",
    "rs=[]\n",
    "for i in l1:\n",
    "    if i%2==0:\n",
    "        for j in l2:\n",
    "            if j%3==0:\n",
    "                for k in l3:\n",
    "                    if k%2==0:\n",
    "                        tmp=i**2-j**3+k**4\n",
    "                        if tmp%7==0:\n",
    "                            rs.append(tmp)\n",
    "print(rs)\n",
    "    "
   ]
  },
  {
   "cell_type": "code",
   "execution_count": null,
   "metadata": {},
   "outputs": [],
   "source": []
  }
 ],
 "metadata": {
  "kernelspec": {
   "display_name": "Python 3 (ipykernel)",
   "language": "python",
   "name": "python3"
  },
  "language_info": {
   "codemirror_mode": {
    "name": "ipython",
    "version": 3
   },
   "file_extension": ".py",
   "mimetype": "text/x-python",
   "name": "python",
   "nbconvert_exporter": "python",
   "pygments_lexer": "ipython3",
   "version": "3.8.10"
  }
 },
 "nbformat": 4,
 "nbformat_minor": 4
}
