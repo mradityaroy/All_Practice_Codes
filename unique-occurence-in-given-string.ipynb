{
 "cells": [
  {
   "cell_type": "code",
   "execution_count": 3,
   "id": "18d7d3ff",
   "metadata": {},
   "outputs": [
    {
     "data": {
      "text/plain": [
       "2"
      ]
     },
     "execution_count": 3,
     "metadata": {},
     "output_type": "execute_result"
    }
   ],
   "source": [
    "string=\"india\"\n",
    "def unique_occurance(s):\n",
    "    index=0  \n",
    "    while index<len(s):\n",
    "        if s.count(s[index])==1:\n",
    "            return index+1\n",
    "        index+=1 # Return index +1 because in that question index start from 1 \n",
    "    return -1\n",
    "        \n",
    "unique_occurance(string)"
   ]
  },
  {
   "cell_type": "code",
   "execution_count": null,
   "id": "67324b5b",
   "metadata": {},
   "outputs": [],
   "source": []
  }
 ],
 "metadata": {
  "kernelspec": {
   "display_name": "Python 3",
   "language": "python",
   "name": "python3"
  },
  "language_info": {
   "codemirror_mode": {
    "name": "ipython",
    "version": 3
   },
   "file_extension": ".py",
   "mimetype": "text/x-python",
   "name": "python",
   "nbconvert_exporter": "python",
   "pygments_lexer": "ipython3",
   "version": "3.8.8"
  }
 },
 "nbformat": 4,
 "nbformat_minor": 5
}
