{
 "cells": [
  {
   "cell_type": "code",
   "execution_count": null,
   "id": "a7844f15",
   "metadata": {},
   "outputs": [],
   "source": [
    "def twoSum(self, nums: List[int], target: int) -> List[int]:\n",
    "    h={}\n",
    "    # ans=[]\n",
    "    for i in range(len(nums)):\n",
    "        h[nums[i]]=i\n",
    "    for i in range(len(nums)):\n",
    "        num=nums[i]\n",
    "        rem=target-num\n",
    "        if rem in h.keys():\n",
    "            if nums.index(rem)==i:\n",
    "                continue\n",
    "            return [i,nums.index(rem)]"
   ]
  },
  {
   "cell_type": "code",
   "execution_count": null,
   "id": "b8507c14",
   "metadata": {},
   "outputs": [],
   "source": []
  },
  {
   "cell_type": "code",
   "execution_count": null,
   "id": "9f71a08b",
   "metadata": {},
   "outputs": [],
   "source": []
  }
 ],
 "metadata": {
  "kernelspec": {
   "display_name": "Python 3",
   "language": "python",
   "name": "python3"
  },
  "language_info": {
   "codemirror_mode": {
    "name": "ipython",
    "version": 3
   },
   "file_extension": ".py",
   "mimetype": "text/x-python",
   "name": "python",
   "nbconvert_exporter": "python",
   "pygments_lexer": "ipython3",
   "version": "3.8.8"
  }
 },
 "nbformat": 4,
 "nbformat_minor": 5
}
