{
 "cells": [
  {
   "cell_type": "code",
   "execution_count": 2,
   "id": "e5c07629",
   "metadata": {},
   "outputs": [],
   "source": [
    "def twoSum(nums, target):\n",
    "    h={}\n",
    "    # ans=[]\n",
    "    for i in range(len(nums)):\n",
    "        h[nums[i]]=i\n",
    "    for i in range(len(nums)):\n",
    "        num=nums[i]\n",
    "        rem=target-num\n",
    "        if rem in h.keys():\n",
    "            if nums.index(rem)==i:\n",
    "                continue\n",
    "            return [i,nums.index(rem)] #"
   ]
  },
  {
   "cell_type": "code",
   "execution_count": 3,
   "id": "c1221927",
   "metadata": {},
   "outputs": [
    {
     "data": {
      "text/plain": [
       "[0, 1]"
      ]
     },
     "execution_count": 3,
     "metadata": {},
     "output_type": "execute_result"
    }
   ],
   "source": [
    "twoSum(nums = [2,7,11,15],target = 9)"
   ]
  },
  {
   "cell_type": "code",
   "execution_count": 5,
   "id": "76b1821c",
   "metadata": {},
   "outputs": [
    {
     "data": {
      "text/plain": [
       "[0, 4]"
      ]
     },
     "execution_count": 5,
     "metadata": {},
     "output_type": "execute_result"
    }
   ],
   "source": [
    "twoSum(nums = [2,6,11,15,3],target = 5)"
   ]
  },
  {
   "cell_type": "code",
   "execution_count": null,
   "id": "2bc0c651",
   "metadata": {},
   "outputs": [],
   "source": []
  }
 ],
 "metadata": {
  "kernelspec": {
   "display_name": "Python 3",
   "language": "python",
   "name": "python3"
  },
  "language_info": {
   "codemirror_mode": {
    "name": "ipython",
    "version": 3
   },
   "file_extension": ".py",
   "mimetype": "text/x-python",
   "name": "python",
   "nbconvert_exporter": "python",
   "pygments_lexer": "ipython3",
   "version": "3.8.8"
  }
 },
 "nbformat": 4,
 "nbformat_minor": 5
}
