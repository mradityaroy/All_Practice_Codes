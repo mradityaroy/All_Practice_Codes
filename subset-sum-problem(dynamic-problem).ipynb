{
 "cells": [
  {
   "cell_type": "code",
   "execution_count": 1,
   "id": "183cf8a2",
   "metadata": {},
   "outputs": [
    {
     "data": {
      "text/plain": [
       "2"
      ]
     },
     "execution_count": 1,
     "metadata": {},
     "output_type": "execute_result"
    }
   ],
   "source": [
    "def subset_sum_problem(arr,w):\n",
    "    n=len(arr)\n",
    "    mat=[]\n",
    "    for i in range(n+1):\n",
    "        temp_mat=[]\n",
    "        for j in range(w+1):\n",
    "            temp_mat.append(0)\n",
    "        mat.append(temp_mat)\n",
    "        \n",
    "    for i in range(n+1):        \n",
    "        for j in range(w+1):\n",
    "            if i==0:\n",
    "                mat[i][j]=0\n",
    "            if j==0:\n",
    "                mat[i][j]=1\n",
    "                \n",
    "    for i in range(1,n+1):\n",
    "        for j in range(1,w+1):\n",
    "            if arr[i-1]<=j:\n",
    "                mat[i][j]=mat[i-1][j]+mat[i-1][j-arr[i-1]]\n",
    "            else:\n",
    "                mat[i][j]=mat[i-1][j]\n",
    "    return mat[n][w]\n",
    "\n",
    "arr=[2,3,8,10,9,12]\n",
    "sums=11\n",
    "subset_sum_problem(arr,sums)\n"
   ]
  },
  {
   "cell_type": "code",
   "execution_count": 3,
   "id": "e5ae453e",
   "metadata": {},
   "outputs": [
    {
     "data": {
      "text/plain": [
       "True"
      ]
     },
     "execution_count": 3,
     "metadata": {},
     "output_type": "execute_result"
    }
   ],
   "source": [
    "def subset_sum_problem(arr,w):\n",
    "    n=len(arr)\n",
    "    \n",
    "    mat=([[False for i in range(w + 1)]\n",
    "          for i in range(n + 1)])\n",
    "    for i in range(w+1):\n",
    "        mat[0][i]=False\n",
    "    for i in range(n+1):\n",
    "        mat[i][0]=True\n",
    "        \n",
    "        \n",
    "        \n",
    "    for i in range(1,n+1):\n",
    "        for j in range(1,w+1):\n",
    "            if arr[i-1]<=j:\n",
    "                mat[i][j]=mat[i-1][j] or mat[i-1][j-arr[i-1]]\n",
    "            else:\n",
    "                mat[i][j]=mat[i-1][j]\n",
    "    return mat[n][w]\n",
    "\n",
    "arr=[1,2,7]\n",
    "sums=10\n",
    "subset_sum_problem(arr,sums)"
   ]
  },
  {
   "cell_type": "code",
   "execution_count": 48,
   "id": "bc447e3f",
   "metadata": {},
   "outputs": [
    {
     "data": {
      "text/plain": [
       "[[True, False, False, False, False, False, False, False, False, False, False],\n",
       " [True, True, False, False, False, False, False, False, False, False, False],\n",
       " [True, True, True, True, False, False, False, False, False, False, False],\n",
       " [True, True, True, True, False, False, False, True, True, True, True]]"
      ]
     },
     "execution_count": 48,
     "metadata": {},
     "output_type": "execute_result"
    }
   ],
   "source": [
    "mat"
   ]
  },
  {
   "cell_type": "code",
   "execution_count": 55,
   "id": "0848a0db",
   "metadata": {},
   "outputs": [],
   "source": [
    "vector=[]\n",
    "for i in range(0,11//2):\n",
    "    if mat[3][i]==True:\n",
    "        vector.append(i)"
   ]
  },
  {
   "cell_type": "code",
   "execution_count": 56,
   "id": "14bad0e1",
   "metadata": {},
   "outputs": [
    {
     "data": {
      "text/plain": [
       "[0, 1, 2, 3]"
      ]
     },
     "execution_count": 56,
     "metadata": {},
     "output_type": "execute_result"
    }
   ],
   "source": [
    "vector"
   ]
  },
  {
   "cell_type": "code",
   "execution_count": 22,
   "id": "5be1345d",
   "metadata": {},
   "outputs": [
    {
     "data": {
      "text/plain": [
       "True"
      ]
     },
     "execution_count": 22,
     "metadata": {},
     "output_type": "execute_result"
    }
   ],
   "source": [
    "def subset_sum_problem(arr,w):\n",
    "    n=len(arr)\n",
    "    \n",
    "    mat=([[False for i in range(w + 1)]\n",
    "          for i in range(n + 1)])\n",
    "    for i in range(w+1):\n",
    "        mat[0][i]=False\n",
    "    for i in range(n+1):\n",
    "        mat[i][0]=True\n",
    "        \n",
    "        \n",
    "        \n",
    "    for i in range(1,n+1):\n",
    "        for j in range(1,w+1):\n",
    "            if arr[i-1]<=j:\n",
    "                mat[i][j]=mat[i-1][j] or mat[i-1][j-arr[i-1]]\n",
    "            else:\n",
    "                mat[i][j]=mat[i-1][j]\n",
    "    return mat[n][w]\n",
    "\n",
    "arr=[2,3,8,10,12]\n",
    "sums=11\n",
    "subset_sum_problem(arr,sums)"
   ]
  },
  {
   "cell_type": "code",
   "execution_count": 21,
   "id": "e408bfcd",
   "metadata": {},
   "outputs": [],
   "source": [
    "mat[1][3]=\"A\""
   ]
  },
  {
   "cell_type": "code",
   "execution_count": 33,
   "id": "db6614fd",
   "metadata": {},
   "outputs": [],
   "source": []
  },
  {
   "cell_type": "code",
   "execution_count": 34,
   "id": "c3f9558d",
   "metadata": {},
   "outputs": [
    {
     "data": {
      "text/plain": [
       "[[False,\n",
       "  True,\n",
       "  False,\n",
       "  False,\n",
       "  False,\n",
       "  False,\n",
       "  False,\n",
       "  False,\n",
       "  False,\n",
       "  False,\n",
       "  False,\n",
       "  False,\n",
       "  False,\n",
       "  False,\n",
       "  False,\n",
       "  False,\n",
       "  False,\n",
       "  False,\n",
       "  False,\n",
       "  False,\n",
       "  False,\n",
       "  False,\n",
       "  False,\n",
       "  False],\n",
       " [True,\n",
       "  True,\n",
       "  False,\n",
       "  True,\n",
       "  False,\n",
       "  False,\n",
       "  False,\n",
       "  False,\n",
       "  False,\n",
       "  False,\n",
       "  False,\n",
       "  False],\n",
       " [True,\n",
       "  True,\n",
       "  False,\n",
       "  True,\n",
       "  True,\n",
       "  False,\n",
       "  True,\n",
       "  False,\n",
       "  False,\n",
       "  False,\n",
       "  False,\n",
       "  False],\n",
       " [True, True, False, True, True, False, True, False, True, True, False, True],\n",
       " [True, True, False, True, True, False, True, False, True, True, True, True],\n",
       " [True, True, False, True, True, False, True, False, True, True, True, True]]"
      ]
     },
     "execution_count": 34,
     "metadata": {},
     "output_type": "execute_result"
    }
   ],
   "source": [
    "mat"
   ]
  },
  {
   "cell_type": "code",
   "execution_count": 13,
   "id": "0b059a08",
   "metadata": {},
   "outputs": [],
   "source": [
    "# A Dynamic Programming solution for subset \n",
    "# sum problem Returns true if there is a subset of \n",
    "# set[] with sun equal to given sum \n",
    "\n",
    "# Returns true if there is a subset of set[] \n",
    "# with sum equal to given sum\n",
    "# def isSubsetSum(set, n, sum):\n",
    "    \n",
    "    # The value of subset[i][j] will be \n",
    "    # true if there is a\n",
    "    # subset of set[0..j-1] with sum equal to i\n",
    "subset =([[False for i in range(10)] \n",
    "        for i in range(n + 1)])\n",
    "    \n",
    "#     # If sum is 0, then answer is true \n",
    "#     for i in range(n + 1):\n",
    "#         subset[i][0] = True\n",
    "        \n",
    "#     # If sum is not 0 and set is empty, \n",
    "#     # then answer is false \n",
    "#     for i in range(1, sum + 1):\n",
    "#          subset[0][i]= False\n",
    "            \n",
    "#     # Fill the subset table in bottom up manner\n",
    "#     for i in range(1, n + 1):\n",
    "#         for j in range(1, sum + 1):\n",
    "#             if j<set[i-1]:\n",
    "#                 subset[i][j] = subset[i-1][j]\n",
    "#             if j>= set[i-1]:\n",
    "#                 subset[i][j] = (subset[i-1][j] or \n",
    "#                                 subset[i - 1][j-set[i-1]])\n",
    "    \n",
    "    # uncomment this code to print table \n",
    "    # for i in range(n + 1):\n",
    "    # for j in range(sum + 1):\n",
    "    # print (subset[i][j], end =\" \")\n",
    "    # print()\n",
    "#     return subset[n][sum]"
   ]
  },
  {
   "cell_type": "code",
   "execution_count": 35,
   "id": "6b26a8f9",
   "metadata": {},
   "outputs": [
    {
     "name": "stdout",
     "output_type": "stream",
     "text": [
      "Found a subset with given sum\n"
     ]
    }
   ],
   "source": [
    "# Driver code\n",
    "set = [3, 34, 4, 12, 5, 2]\n",
    "sum = 9\n",
    "n = len(set)\n",
    "if (isSubsetSum(set, n, sum) == True):\n",
    "    print(\"Found a subset with given sum\")\n",
    "else:\n",
    "    print(\"No subset with given sum\")"
   ]
  },
  {
   "cell_type": "code",
   "execution_count": 13,
   "id": "5f81ea96",
   "metadata": {},
   "outputs": [
    {
     "data": {
      "text/plain": [
       "True"
      ]
     },
     "execution_count": 13,
     "metadata": {},
     "output_type": "execute_result"
    }
   ],
   "source": [
    "def equal_sum_partition(arr):\n",
    "    n=len(arr)\n",
    "    if sum(arr)%2!=0:\n",
    "        return -1\n",
    "    elif sum(arr)%2==0:\n",
    "        matr=([[False for i in range(sum(arr)+1)]\n",
    "              for i in range(len(arr)+1)])\n",
    "        for i in range(sum(arr)+1):\n",
    "            matr[0][i]=False\n",
    "        for i in range(len(arr)+1):\n",
    "            matr[i][0]=True\n",
    "        for i in range(len(arr)+1):\n",
    "            for j in range(sum(arr)+1):\n",
    "                if arr[i-1]<=j:\n",
    "                    matr[i][j]=matr[i-1][j] or matr[i-1][j-arr[i-1]]\n",
    "                elif arr[i-1]>j:\n",
    "                    matr[i][j]=matr[i-1][j]\n",
    "        return matr[len(arr)][sum(arr)]\n",
    "#         return subset_sum_problem(arr,sum(arr))\n",
    "equal_sum_partition(arr)"
   ]
  },
  {
   "cell_type": "code",
   "execution_count": 7,
   "id": "598e5de9",
   "metadata": {},
   "outputs": [],
   "source": [
    "matr=([[False for i in range(sum(arr)+1)]\n",
    "      for i in range(len(arr)+1)])"
   ]
  },
  {
   "cell_type": "code",
   "execution_count": 9,
   "id": "50a48614",
   "metadata": {},
   "outputs": [],
   "source": [
    "for i in range(sum(arr)+1):\n",
    "    matr[0][i]=False\n",
    "for i in range(len(arr)+1):\n",
    "    matr[i][0]=True"
   ]
  },
  {
   "cell_type": "code",
   "execution_count": 12,
   "id": "d4aec2fb",
   "metadata": {},
   "outputs": [],
   "source": [
    "for i in range(len(arr)+1):\n",
    "    for j in range(sum(arr)+1):\n",
    "        if arr[i-1]<=j:\n",
    "            matr[i][j]=matr[i-1][j] or matr[i-1][j-arr[i-1]]\n",
    "        elif arr[i-1]>j:\n",
    "            matr[i][j]=matr[i-1][j]"
   ]
  },
  {
   "cell_type": "code",
   "execution_count": null,
   "id": "20d286fc",
   "metadata": {},
   "outputs": [],
   "source": []
  }
 ],
 "metadata": {
  "kernelspec": {
   "display_name": "Python 3",
   "language": "python",
   "name": "python3"
  },
  "language_info": {
   "codemirror_mode": {
    "name": "ipython",
    "version": 3
   },
   "file_extension": ".py",
   "mimetype": "text/x-python",
   "name": "python",
   "nbconvert_exporter": "python",
   "pygments_lexer": "ipython3",
   "version": "3.8.8"
  }
 },
 "nbformat": 4,
 "nbformat_minor": 5
}
