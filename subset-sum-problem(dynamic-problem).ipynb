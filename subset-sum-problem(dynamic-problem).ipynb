{
 "cells": [
  {
   "cell_type": "code",
   "execution_count": 3,
   "id": "e5ae453e",
   "metadata": {},
   "outputs": [
    {
     "data": {
      "text/plain": [
       "True"
      ]
     },
     "execution_count": 3,
     "metadata": {},
     "output_type": "execute_result"
    }
   ],
   "source": [
    "def subset_sum_problem(arr,w):\n",
    "    n=len(arr)\n",
    "    \n",
    "    mat=([[False for i in range(w + 1)]\n",
    "          for i in range(n + 1)])\n",
    "    for i in range(w+1):\n",
    "        mat[0][i]=False\n",
    "    for i in range(n+1):\n",
    "        mat[i][0]=True\n",
    "        \n",
    "        \n",
    "        \n",
    "    for i in range(1,n+1):\n",
    "        for j in range(1,w+1):\n",
    "            if arr[i-1]<=j:\n",
    "                mat[i][j]=mat[i-1][j] or mat[i-1][j-arr[i-1]]\n",
    "            else:\n",
    "                mat[i][j]=mat[i-1][j]\n",
    "    return mat[n][w]\n",
    "\n",
    "arr=[1,2,7]\n",
    "sums=10\n",
    "subset_sum_problem(arr,sums)"
   ]
  }
 ],
 "metadata": {
  "kernelspec": {
   "display_name": "Python 3",
   "language": "python",
   "name": "python3"
  },
  "language_info": {
   "codemirror_mode": {
    "name": "ipython",
    "version": 3
   },
   "file_extension": ".py",
   "mimetype": "text/x-python",
   "name": "python",
   "nbconvert_exporter": "python",
   "pygments_lexer": "ipython3",
   "version": "3.8.8"
  }
 },
 "nbformat": 4,
 "nbformat_minor": 5
}
