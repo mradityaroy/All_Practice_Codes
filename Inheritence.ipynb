{
 "cells": [
  {
   "cell_type": "code",
   "execution_count": 8,
   "id": "190766e6",
   "metadata": {},
   "outputs": [
    {
     "name": "stdout",
     "output_type": "stream",
     "text": [
      "global:aseClass.__dict__: {'__module__': '__main__', 'f': <function BaseClass.f at 0x7f750373b280>, '__dict__': <attribute '__dict__' of 'BaseClass' objects>, '__weakref__': <attribute '__weakref__' of 'BaseClass' objects>, '__doc__': None}\n",
      "global:BaseClass is derived from class object\n",
      "\n",
      "\n",
      "global:type(inD1): <class '__main__.DerivedClassOne'>\n",
      "global:DerivedClassOne.__dict__: {'__module__': '__main__', '__doc__': None}\n",
      "BaseClass:type(self): <class '__main__.DerivedClassOne'>\n",
      "BaseClass:msg: From inD1\n",
      "\n",
      "\n",
      "global:type(inD2): <class '__main__.DerivedClassTwo'>\n",
      "global:DerivedClassTwo.__dict__: {'__module__': '__main__', 'f': <function DerivedClassTwo.f at 0x7f750373b3a0>, '__doc__': None}\n",
      "DerivedClassTwo\n",
      "msg*3 From inD2From inD2From inD2\n",
      "\n",
      "\n",
      "global:type(inD3): <class '__main__.DerivedClassThree'>\n",
      "global:DerivedClassThree.__dict__: {'__module__': '__main__', 'f': <function DerivedClassThree.f at 0x7f750373b430>, '__dict__': <attribute '__dict__' of 'DerivedClassThree' objects>, '__weakref__': <attribute '__weakref__' of 'DerivedClassThree' objects>, '__doc__': None}\n",
      "In DerivedClassThree:f, calling BaseClass.f\n",
      "BaseClass:type(self): <class '__main__.DerivedClassThree'>\n",
      "BaseClass:msg: From inD3\n",
      "DerivedClassThree:msg: From inD3From inD3From inD3From inD3\n"
     ]
    }
   ],
   "source": [
    "class BaseClass:\n",
    "    def f(self,msg):\n",
    "        print(\"BaseClass:type(self):\",type(self))\n",
    "        print(\"BaseClass:msg:\",msg)\n",
    "print(\"global:aseClass.__dict__:\",BaseClass.__dict__)\n",
    "if isinstance(BaseClass, object):\n",
    "    print(\"global:BaseClass is derived from class object\")\n",
    "#--------------------------------------------------------------------#\n",
    "\n",
    "print(\"\\n\")\n",
    "\n",
    "# Inherit f from BaseClass\n",
    "class DerivedClassOne(BaseClass):\n",
    "    pass\n",
    "\n",
    "inD1 = DerivedClassOne()\n",
    "print(\"global:type(inD1):\", type(inD1))\n",
    "print(\"global:DerivedClassOne.__dict__:\", DerivedClassOne.__dict__)\n",
    "\n",
    "inD1.f('From inD1')\n",
    "#--------------------------------------------------------------------#\n",
    "\n",
    "print(\"\\n\")\n",
    "\n",
    "# Replace f from BaseClass\n",
    "class DerivedClassTwo(BaseClass):\n",
    "    def f(self,msg):\n",
    "        print(\"DerivedClassTwo\")\n",
    "        print(\"msg*3\", msg*3)\n",
    "\n",
    "    \n",
    "inD2 = DerivedClassTwo()\n",
    "print(\"global:type(inD2):\",type(inD2))\n",
    "print(\"global:DerivedClassTwo.__dict__:\", DerivedClassTwo.__dict__)\n",
    "inD2.f(\"From inD2\")\n",
    "      \n",
    "#--------------------------------------------------------------------#    \n",
    "\n",
    "print(\"\\n\")\n",
    "\n",
    "# Extend BaseClass f\n",
    "class DerivedClassThree:\n",
    "    def f(self,msg):\n",
    "        print(\"In DerivedClassThree:f, calling BaseClass.f\")\n",
    "        BaseClass.f(self, msg)\n",
    "        print(\"DerivedClassThree:msg:\", msg*4)\n",
    "\n",
    "inD3 = DerivedClassThree()\n",
    "print(\"global:type(inD3):\",type(inD3))\n",
    "print(\"global:DerivedClassThree.__dict__:\", DerivedClassThree.__dict__)\n",
    "inD3.f(\"From inD3\")"
   ]
  },
  {
   "cell_type": "code",
   "execution_count": null,
   "id": "bab8bf7c",
   "metadata": {},
   "outputs": [],
   "source": []
  }
 ],
 "metadata": {
  "kernelspec": {
   "display_name": "Python 3 (ipykernel)",
   "language": "python",
   "name": "python3"
  },
  "language_info": {
   "codemirror_mode": {
    "name": "ipython",
    "version": 3
   },
   "file_extension": ".py",
   "mimetype": "text/x-python",
   "name": "python",
   "nbconvert_exporter": "python",
   "pygments_lexer": "ipython3",
   "version": "3.8.10"
  }
 },
 "nbformat": 4,
 "nbformat_minor": 5
}
