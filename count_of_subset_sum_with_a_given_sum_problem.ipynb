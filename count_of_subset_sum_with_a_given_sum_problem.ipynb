{
 "cells": [
  {
   "cell_type": "markdown",
   "id": "712e3912",
   "metadata": {},
   "source": [
    "# 1st Method"
   ]
  },
  {
   "cell_type": "code",
   "execution_count": 6,
   "id": "599ad7e7",
   "metadata": {},
   "outputs": [
    {
     "data": {
      "text/plain": [
       "2"
      ]
     },
     "execution_count": 6,
     "metadata": {},
     "output_type": "execute_result"
    }
   ],
   "source": [
    "def count_of_subset_sum_with_a_given_sum_problem(arr,w):\n",
    "    n=len(arr)\n",
    "    mat=[]\n",
    "    for i in range(n+1):\n",
    "        temp_mat=[]\n",
    "        for j in range(w+1):\n",
    "            temp_mat.append(0)\n",
    "        mat.append(temp_mat)\n",
    "        \n",
    "    for i in range(n+1):        \n",
    "        for j in range(w+1):\n",
    "            if i==0:\n",
    "                mat[i][j]=0\n",
    "            if j==0:\n",
    "                mat[i][j]=1\n",
    "                \n",
    "                # This method is Same in both\n",
    "    for i in range(1,n+1):\n",
    "        for j in range(1,w+1):\n",
    "            if arr[i-1]<=j:\n",
    "                mat[i][j]=mat[i-1][j]+mat[i-1][j-arr[i-1]]\n",
    "            else:\n",
    "                mat[i][j]=mat[i-1][j]\n",
    "    return mat[n][w]\n",
    "\n",
    "arr=[2,3,8,10,9,12]\n",
    "sums=11\n",
    "count_of_subset_sum_with_a_given_sum_problem(arr,sums)\n"
   ]
  },
  {
   "cell_type": "markdown",
   "id": "ddd9d571",
   "metadata": {},
   "source": [
    "# 2nd Method"
   ]
  },
  {
   "cell_type": "code",
   "execution_count": 1,
   "id": "0d809469",
   "metadata": {},
   "outputs": [
    {
     "data": {
      "text/plain": [
       "2"
      ]
     },
     "execution_count": 1,
     "metadata": {},
     "output_type": "execute_result"
    }
   ],
   "source": [
    "def count_of_subset_sum_with_a_given_sum_problem(arr,w):\n",
    "    n=len(arr)\n",
    "    \n",
    "    mat=([[False for i in range(w + 1)]\n",
    "          for i in range(n + 1)])\n",
    "    for i in range(w+1):\n",
    "        mat[0][i]=False\n",
    "    for i in range(n+1):\n",
    "        mat[i][0]=True\n",
    "        \n",
    "        \n",
    "        # This method is Same in both\n",
    "        \n",
    "    for i in range(1,n+1):\n",
    "        for j in range(1,w+1):\n",
    "            if arr[i-1]<=j:\n",
    "                mat[i][j]=mat[i-1][j] + mat[i-1][j-arr[i-1]]\n",
    "            else:\n",
    "                mat[i][j]=mat[i-1][j]\n",
    "    return mat[n][w]\n",
    "\n",
    "arr=[2,3,8,10,9,14]\n",
    "sums=11\n",
    "count_of_subset_sum_with_a_given_sum_problem(arr,sums)"
   ]
  },
  {
   "cell_type": "code",
   "execution_count": null,
   "id": "2e63e54e",
   "metadata": {},
   "outputs": [],
   "source": []
  }
 ],
 "metadata": {
  "kernelspec": {
   "display_name": "Python 3",
   "language": "python",
   "name": "python3"
  },
  "language_info": {
   "codemirror_mode": {
    "name": "ipython",
    "version": 3
   },
   "file_extension": ".py",
   "mimetype": "text/x-python",
   "name": "python",
   "nbconvert_exporter": "python",
   "pygments_lexer": "ipython3",
   "version": "3.8.8"
  }
 },
 "nbformat": 4,
 "nbformat_minor": 5
}
