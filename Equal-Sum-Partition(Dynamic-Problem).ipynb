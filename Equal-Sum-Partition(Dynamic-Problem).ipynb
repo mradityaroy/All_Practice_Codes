{
 "cells": [
  {
   "cell_type": "code",
   "execution_count": 21,
   "id": "a719a514",
   "metadata": {},
   "outputs": [
    {
     "data": {
      "text/plain": [
       "True"
      ]
     },
     "execution_count": 21,
     "metadata": {},
     "output_type": "execute_result"
    }
   ],
   "source": [
    "def equal_sum_partition(arr):\n",
    "    n=len(arr)\n",
    "    if sum(arr)%2!=0:\n",
    "        return False\n",
    "    \n",
    "    elif sum(arr)%2==0:\n",
    "        sums=sum(arr)//2\n",
    "        matr=([[False for i in range(sums+1)]\n",
    "              for i in range(len(arr)+1)])\n",
    "        \n",
    "        for i in range(sums+1):\n",
    "            matr[0][i]=False\n",
    "            \n",
    "        for i in range(len(arr)+1):\n",
    "            matr[i][0]=True\n",
    "            \n",
    "        for i in range(len(arr)+1):\n",
    "            for j in range(sums+1):\n",
    "                \n",
    "                if arr[i-1]<=j:\n",
    "                    matr[i][j]=matr[i-1][j] or matr[i-1][j-arr[i-1]]\n",
    "                    \n",
    "                elif arr[i-1]>j:\n",
    "                    matr[i][j]=matr[i-1][j]\n",
    "                    \n",
    "        return matr[len(arr)][sums]\n",
    "#         return subset_sum_problem(arr,sum(arr))\n",
    "\n",
    "arr=[2,3,8,10,9,12]\n",
    "equal_sum_partition(arr)"
   ]
  },
  {
   "cell_type": "code",
   "execution_count": 14,
   "id": "9830b020",
   "metadata": {},
   "outputs": [],
   "source": [
    "arr=[2,3,8,10,9,12]"
   ]
  },
  {
   "cell_type": "code",
   "execution_count": 18,
   "id": "a14380cd",
   "metadata": {},
   "outputs": [],
   "source": [
    "a=sum(arr)//2"
   ]
  },
  {
   "cell_type": "code",
   "execution_count": 19,
   "id": "4164aad0",
   "metadata": {},
   "outputs": [
    {
     "data": {
      "text/plain": [
       "22"
      ]
     },
     "execution_count": 19,
     "metadata": {},
     "output_type": "execute_result"
    }
   ],
   "source": [
    "a"
   ]
  },
  {
   "cell_type": "code",
   "execution_count": null,
   "id": "12c42e16",
   "metadata": {},
   "outputs": [],
   "source": []
  }
 ],
 "metadata": {
  "kernelspec": {
   "display_name": "Python 3",
   "language": "python",
   "name": "python3"
  },
  "language_info": {
   "codemirror_mode": {
    "name": "ipython",
    "version": 3
   },
   "file_extension": ".py",
   "mimetype": "text/x-python",
   "name": "python",
   "nbconvert_exporter": "python",
   "pygments_lexer": "ipython3",
   "version": "3.8.8"
  }
 },
 "nbformat": 4,
 "nbformat_minor": 5
}
