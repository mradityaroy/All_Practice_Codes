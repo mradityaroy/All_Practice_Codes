{
 "cells": [
  {
   "cell_type": "code",
   "execution_count": 8,
   "id": "74aacaaf",
   "metadata": {},
   "outputs": [
    {
     "data": {
      "text/plain": [
       "False"
      ]
     },
     "execution_count": 8,
     "metadata": {},
     "output_type": "execute_result"
    }
   ],
   "source": [
    "def equal_sum_partition(arr):\n",
    "    n=len(arr)\n",
    "    if sum(arr)%2!=0:\n",
    "        return False\n",
    "    elif sum(arr)%2==0:\n",
    "        matr=([[False for i in range(sum(arr)+1)]\n",
    "              for i in range(len(arr)+1)])\n",
    "        for i in range(sum(arr)+1):\n",
    "            matr[0][i]=False\n",
    "        for i in range(len(arr)+1):\n",
    "            matr[i][0]=True\n",
    "        for i in range(len(arr)+1):\n",
    "            for j in range(sum(arr)+1):\n",
    "                if arr[i-1]<=j:\n",
    "                    matr[i][j]=matr[i-1][j] or matr[i-1][j-arr[i-1]]\n",
    "                elif arr[i-1]>j:\n",
    "                    matr[i][j]=matr[i-1][j]\n",
    "        return matr[len(arr)][sum(arr)]\n",
    "#         return subset_sum_problem(arr,sum(arr))\n",
    "arr=[2,3,8,10,9,13]\n",
    "equal_sum_partition(arr)"
   ]
  },
  {
   "cell_type": "code",
   "execution_count": null,
   "id": "ceeaff05",
   "metadata": {},
   "outputs": [],
   "source": []
  }
 ],
 "metadata": {
  "kernelspec": {
   "display_name": "Python 3",
   "language": "python",
   "name": "python3"
  },
  "language_info": {
   "codemirror_mode": {
    "name": "ipython",
    "version": 3
   },
   "file_extension": ".py",
   "mimetype": "text/x-python",
   "name": "python",
   "nbconvert_exporter": "python",
   "pygments_lexer": "ipython3",
   "version": "3.8.8"
  }
 },
 "nbformat": 4,
 "nbformat_minor": 5
}
